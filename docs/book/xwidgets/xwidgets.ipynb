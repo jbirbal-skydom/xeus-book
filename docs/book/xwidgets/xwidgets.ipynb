{
 "cells": [
  {
   "cell_type": "markdown",
   "metadata": {},
   "source": [
    "# Numerical widgets"
   ]
  },
  {
   "cell_type": "markdown",
   "metadata": {},
   "source": [
    "## Defining a Slider Widget"
   ]
  },
  {
   "cell_type": "code",
   "execution_count": 1,
   "metadata": {},
   "outputs": [],
   "source": [
    "#pragma cling add_library_path(\"/opt/conda/lib/\")\n",
    "#pragma cling add_include_path(\"/opt/conda/include/\")\n",
    "#pragma cling add_include_path(\"/opt/conda/include/xwidgets\")\n",
    "#pragma cling load(\"/opt/conda/lib/libxwidgets.so.1.0.1\")"
   ]
  },
  {
   "cell_type": "code",
   "execution_count": 2,
   "metadata": {},
   "outputs": [],
   "source": [
    "\n",
    "#include <xslider.hpp>\n"
   ]
  },
  {
   "cell_type": "code",
   "execution_count": 3,
   "metadata": {
    "jupyter": {
     "source_hidden": true
    }
   },
   "outputs": [],
   "source": [
    "/***************************************************************************\n",
    " * Copyright (c) 2022, QuantStack and XWidgets contributors                 *\n",
    " *                                                                          *\n",
    " * Distributed under the terms of the BSD 3-Clause License.                 *\n",
    " *                                                                          *\n",
    " * The full license is in the file LICENSE, distributed with this software. *\n",
    " ****************************************************************************/\n",
    "\n",
    "#include \"xwidgets/xcommon.hpp\"\n",
    "\n",
    "#include <algorithm>\n",
    "#include <cstdlib>\n",
    "#include <string>\n",
    "#include <utility>\n",
    "#include <vector>\n",
    "\n",
    "#include <xtl/xoptional.hpp>\n",
    "\n",
    "#include \"xeus/xinterpreter.hpp\"\n",
    "#include \"xtarget.hpp\"\n",
    "\n",
    "namespace xw\n",
    "{\n",
    "    xcommon::xcommon()\n",
    "        : m_moved_from(false)\n",
    "        , m_hold(nullptr)\n",
    "        , m_comm(get_widget_target(), xeus::new_xguid())\n",
    "    {\n",
    "    }\n",
    "\n",
    "    xcommon::~xcommon()\n",
    "    {\n",
    "    }\n",
    "\n",
    "    xcommon::xcommon(xeus::xcomm&& comm)\n",
    "        : m_moved_from(false)\n",
    "        , m_hold(nullptr)\n",
    "        , m_comm(std::move(comm))\n",
    "    {\n",
    "    }\n",
    "\n",
    "    xcommon::xcommon(const xcommon& other)\n",
    "        : m_moved_from(false)\n",
    "        , m_hold(nullptr)\n",
    "        , m_comm(other.m_comm)\n",
    "        , m_buffer_paths(other.m_buffer_paths)\n",
    "    {\n",
    "    }\n",
    "\n",
    "    xcommon::xcommon(xcommon&& other)\n",
    "        : m_moved_from(false)\n",
    "        , m_hold(nullptr)\n",
    "        , m_comm(std::move(other.m_comm))\n",
    "        , m_buffer_paths(std::move(other.m_buffer_paths))\n",
    "    {\n",
    "        other.m_moved_from = true;\n",
    "    }\n",
    "\n",
    "    xcommon& xcommon::operator=(const xcommon& other)\n",
    "    {\n",
    "        m_moved_from = false;\n",
    "        m_hold = nullptr;\n",
    "        m_comm = other.m_comm;\n",
    "        m_buffer_paths = other.m_buffer_paths;\n",
    "        return *this;\n",
    "    }\n",
    "\n",
    "    xcommon& xcommon::operator=(xcommon&& other)\n",
    "    {\n",
    "        other.m_moved_from = true;\n",
    "        m_moved_from = false;\n",
    "        m_hold = nullptr;\n",
    "        m_comm = std::move(other.m_comm);\n",
    "        m_buffer_paths = std::move(other.m_buffer_paths);\n",
    "        return *this;\n",
    "    }\n",
    "\n",
    "    auto xcommon::id() const noexcept -> xeus::xguid\n",
    "    {\n",
    "        return m_comm.id();\n",
    "    }\n",
    "\n",
    "    void xcommon::display() const\n",
    "    {\n",
    "        nl::json mime_bundle;\n",
    "\n",
    "        // application/vnd.jupyter.widget-view+json\n",
    "        nl::json widgets_json;\n",
    "        widgets_json[\"version_major\"] = XWIDGETS_PROTOCOL_VERSION_MAJOR;\n",
    "        widgets_json[\"version_minor\"] = XWIDGETS_PROTOCOL_VERSION_MINOR;\n",
    "        widgets_json[\"model_id\"] = this->id();\n",
    "        mime_bundle[\"application/vnd.jupyter.widget-view+json\"] = std::move(widgets_json);\n",
    "\n",
    "        // text/plain\n",
    "        mime_bundle[\"text/plain\"] = \"A Jupyter widget\";\n",
    "\n",
    "        ::xeus::get_interpreter().display_data(std::move(mime_bundle), nl::json::object(), nl::json::object());\n",
    "    }\n",
    "\n",
    "    void xcommon::send(nl::json&& content, xeus::buffer_sequence&& buffers) const\n",
    "    {\n",
    "        // metadata\n",
    "        nl::json metadata;\n",
    "        metadata[\"version\"] = XWIDGETS_PROTOCOL_VERSION;\n",
    "\n",
    "        // data\n",
    "        nl::json data;\n",
    "        data[\"method\"] = \"custom\";\n",
    "        data[\"content\"] = std::move(content);\n",
    "\n",
    "        // send\n",
    "        m_comm.send(std::move(metadata), std::move(data), std::move(buffers));\n",
    "    }\n",
    "\n",
    "    void xcommon::handle_custom_message(const nl::json& /*content*/)\n",
    "    {\n",
    "    }\n",
    "\n",
    "    xeus::xcomm& xcommon::comm()\n",
    "    {\n",
    "        return m_comm;\n",
    "    }\n",
    "\n",
    "    const xeus::xcomm& xcommon::comm() const\n",
    "    {\n",
    "        return m_comm;\n",
    "    }\n",
    "\n",
    "    const xeus::xmessage*& xcommon::hold()\n",
    "    {\n",
    "        return m_hold;\n",
    "    }\n",
    "\n",
    "    const xeus::xmessage* const& xcommon::hold() const\n",
    "    {\n",
    "        return m_hold;\n",
    "    }\n",
    "\n",
    "    bool xcommon::moved_from() const noexcept\n",
    "    {\n",
    "        return m_moved_from;\n",
    "    }\n",
    "\n",
    "    std::vector<xjson_path_type>& xcommon::buffer_paths()\n",
    "    {\n",
    "        return m_buffer_paths;\n",
    "    }\n",
    "\n",
    "    const std::vector<xjson_path_type>& xcommon::buffer_paths() const\n",
    "    {\n",
    "        return m_buffer_paths;\n",
    "    }\n",
    "\n",
    "    void xcommon::send_patch(nl::json&& patch, xeus::buffer_sequence&& buffers, const char* method) const\n",
    "    {\n",
    "        // extract buffer paths\n",
    "        std::vector<nl::json> paths{};\n",
    "        reorder_buffer_paths(buffer_paths(), patch, paths);\n",
    "\n",
    "        // metadata\n",
    "        nl::json metadata;\n",
    "        metadata[\"version\"] = XWIDGETS_PROTOCOL_VERSION;\n",
    "\n",
    "        // data\n",
    "        nl::json data;\n",
    "        data[\"method\"] = method;\n",
    "        data[\"state\"] = std::move(patch);\n",
    "        data[\"buffer_paths\"] = std::move(paths);\n",
    "\n",
    "        // send\n",
    "        m_comm.send(std::move(metadata), std::move(data), std::move(buffers));\n",
    "    }\n",
    "\n",
    "    void xcommon::open(nl::json&& patch, xeus::buffer_sequence&& buffers)\n",
    "    {\n",
    "        // extract buffer paths\n",
    "        std::vector<nl::json> paths{};\n",
    "        reorder_buffer_paths(buffer_paths(), patch, paths);\n",
    "\n",
    "        // metadata\n",
    "        nl::json metadata;\n",
    "        metadata[\"version\"] = XWIDGETS_PROTOCOL_VERSION;\n",
    "\n",
    "        // data\n",
    "        nl::json data;\n",
    "\n",
    "        data[\"state\"] = std::move(patch);\n",
    "        data[\"buffer_paths\"] = std::move(paths);\n",
    "\n",
    "        // open\n",
    "        m_comm.open(std::move(metadata), std::move(data), std::move(buffers));\n",
    "    }\n",
    "\n",
    "    void xcommon::close()\n",
    "    {\n",
    "        // close\n",
    "        m_comm.close(nl::json::object(), nl::json::object(), xeus::buffer_sequence());\n",
    "    }\n",
    "\n",
    "    namespace\n",
    "    {\n",
    "        std::string tolower(std::string s)\n",
    "        {\n",
    "            auto safe_tolower = [](unsigned char c)\n",
    "            {\n",
    "                return std::tolower(c);\n",
    "            };\n",
    "            std::transform(s.begin(), s.end(), s.begin(), safe_tolower);\n",
    "            return s;\n",
    "        }\n",
    "\n",
    "        std::string ltrim(std::string s)\n",
    "        {\n",
    "            auto const safe_isnotspace = [](unsigned char ch)\n",
    "            {\n",
    "                return !std::isspace(ch);\n",
    "            };\n",
    "            s.erase(s.begin(), std::find_if(s.begin(), s.end(), safe_isnotspace));\n",
    "            return s;\n",
    "        }\n",
    "\n",
    "        std::string rtrim(std::string s)\n",
    "        {\n",
    "            auto const safe_isnotspace = [](unsigned char ch)\n",
    "            {\n",
    "                return !std::isspace(ch);\n",
    "            };\n",
    "            s.erase(std::find_if(s.rbegin(), s.rend(), safe_isnotspace).base(), s.end());\n",
    "            return s;\n",
    "        }\n",
    "\n",
    "        std::string trim(std::string s)\n",
    "        {\n",
    "            rtrim(s);\n",
    "            ltrim(s);\n",
    "            return s;\n",
    "        }\n",
    "\n",
    "        bool is_zero_number(std::string const& s)\n",
    "        {\n",
    "            try\n",
    "            {\n",
    "                auto val = std::stod(s);\n",
    "                return val == decltype(val)(0);\n",
    "            }\n",
    "            catch (std::invalid_argument const&)\n",
    "            {\n",
    "                return false;\n",
    "            }\n",
    "            catch (std::out_of_range const&)\n",
    "            {\n",
    "                return false;\n",
    "            }\n",
    "        }\n",
    "\n",
    "        /**\n",
    "         * Check if a string is true.\n",
    "         *\n",
    "         * A string is true, if it does not contain a negative value, such as \"false\" or 0.\n",
    "         * This is the convention adopted in Jupyter\n",
    "         * https://github.com/jupyter/jupyter_core/blob/98ab1ef453956333a85bb6eee494ad0a9bab2c02/jupyter_core/paths.py#L47\n",
    "         */\n",
    "        bool is_true_string(const char* str)\n",
    "        {\n",
    "            const std::string s = tolower(trim(str));\n",
    "            if (is_zero_number(str))\n",
    "            {\n",
    "                return false;\n",
    "            }\n",
    "            static constexpr auto falses = {\"no\", \"n\", \"false\", \"off\"};\n",
    "            return std::find(falses.begin(), falses.end(), s) == falses.end();\n",
    "        }\n",
    "\n",
    "        xtl::xoptional<bool> get_tristate_env(const char* name)\n",
    "        {\n",
    "            const char* const val = std::getenv(name);\n",
    "            if (val == nullptr)\n",
    "            {\n",
    "                return {};\n",
    "            }\n",
    "            return is_true_string(val);\n",
    "        }\n",
    "    }\n",
    "\n",
    "    xtl::xoptional<bool> xcommon::global_echo_update()\n",
    "    {\n",
    "        static const auto out = get_tristate_env(\"JUPYTER_WIDGETS_ECHO\");\n",
    "        return out;\n",
    "    }\n",
    "\n",
    "    bool\n",
    "    xcommon::same_patch(const std::string& name, const nl::json& j1, const xeus::buffer_sequence&, const nl::json& j2, const xeus::buffer_sequence&)\n",
    "        const\n",
    "    {\n",
    "        const auto& paths = buffer_paths();\n",
    "        // For a widget with no binary buffer, compare the patches\n",
    "        if (paths.empty())\n",
    "        {\n",
    "            return j1 == j2;\n",
    "        }\n",
    "        else\n",
    "        {\n",
    "            // For a property with no binary buffer, compare the patches\n",
    "            if (std::find_if(\n",
    "                    paths.cbegin(),\n",
    "                    paths.cend(),\n",
    "                    [name](const auto& v)\n",
    "                    {\n",
    "                        return !v.empty() && v[0] == name;\n",
    "                    }\n",
    "                )\n",
    "                == paths.cend())\n",
    "            {\n",
    "                return j1 == j2;\n",
    "            }\n",
    "            else\n",
    "            {\n",
    "                // TODO: handle the comparison of binary buffers.\n",
    "                return true;\n",
    "            }\n",
    "        }\n",
    "    }\n",
    "\n",
    "    void to_json(nl::json& j, const xcommon& o)\n",
    "    {\n",
    "        j = \"IPY_MODEL_\" + std::string(o.id());\n",
    "    }\n",
    "\n",
    "    nl::json mime_bundle_repr(const xcommon& val)\n",
    "    {\n",
    "        nl::json mime_bundle;\n",
    "\n",
    "        // application/vnd.jupyter.widget-view+json\n",
    "        nl::json widgets_json;\n",
    "        widgets_json[\"version_major\"] = XWIDGETS_PROTOCOL_VERSION_MAJOR;\n",
    "        widgets_json[\"version_minor\"] = XWIDGETS_PROTOCOL_VERSION_MINOR;\n",
    "        widgets_json[\"model_id\"] = val.id();\n",
    "        mime_bundle[\"application/vnd.jupyter.widget-view+json\"] = std::move(widgets_json);\n",
    "\n",
    "        // text/plain\n",
    "        mime_bundle[\"text/plain\"] = \"A Jupyter widget with unique id: \" + std::string(val.id());\n",
    "        return mime_bundle;\n",
    "    }\n",
    "}"
   ]
  },
  {
   "cell_type": "code",
   "execution_count": 4,
   "metadata": {
    "jupyter": {
     "source_hidden": true
    }
   },
   "outputs": [],
   "source": [
    "/***************************************************************************\n",
    " * Copyright (c) 2017, Sylvain Corlay and Johan Mabille                     *\n",
    " *                                                                          *\n",
    " * Distributed under the terms of the BSD 3-Clause License.                 *\n",
    " *                                                                          *\n",
    " * The full license is in the file LICENSE, distributed with this software. *\n",
    " ****************************************************************************/\n",
    "\n",
    "#include \"xwidgets/xbinary.hpp\"\n",
    "\n",
    "#include <sstream>\n",
    "#include <string>\n",
    "#include <utility>\n",
    "\n",
    "namespace nl = nlohmann;\n",
    "\n",
    "namespace xw\n",
    "{\n",
    "    const std::string& xbuffer_reference_prefix()\n",
    "    {\n",
    "        static const std::string prefix = \"@buffer_reference@\";\n",
    "        return prefix;\n",
    "    }\n",
    "\n",
    "    bool is_buffer_reference(const std::string& arg)\n",
    "    {\n",
    "        const std::string& prefix = xbuffer_reference_prefix();\n",
    "        return arg.size() > prefix.size() && std::equal(prefix.cbegin(), prefix.cend(), arg.cbegin());\n",
    "    }\n",
    "\n",
    "    std::size_t buffer_index(const std::string& v)\n",
    "    {\n",
    "        std::stringstream stream(v);\n",
    "        auto const prefix_size = xbuffer_reference_prefix().size();\n",
    "        stream.ignore(static_cast<std::streamsize>(prefix_size));\n",
    "        std::size_t index = 0;\n",
    "        stream >> index;\n",
    "        return index;\n",
    "    }\n",
    "\n",
    "    namespace detail\n",
    "    {\n",
    "        const nl::json* get_buffers(const nl::json& patch, const xjson_path_type& path)\n",
    "        {\n",
    "            const nl::json* current = &patch;\n",
    "            for (const auto& item : path)\n",
    "            {\n",
    "                if (current->is_array())\n",
    "                {\n",
    "                    current = &(*current)[std::stoul(item)];\n",
    "                }\n",
    "                else\n",
    "                {\n",
    "                    auto el = current->find(item);\n",
    "                    if (el != current->end())\n",
    "                    {\n",
    "                        current = &(*el);\n",
    "                    }\n",
    "                    else\n",
    "                    {\n",
    "                        return nullptr;\n",
    "                    }\n",
    "                }\n",
    "            }\n",
    "            return current;\n",
    "        }\n",
    "\n",
    "        nl::json* get_json(nl::json& patch, const xjson_path_type& path)\n",
    "        {\n",
    "            nl::json* current = &patch;\n",
    "            for (const auto& item : path)\n",
    "            {\n",
    "                if (current->is_array())\n",
    "                {\n",
    "                    current = &(*current)[std::stoul(item)];\n",
    "                }\n",
    "                else\n",
    "                {\n",
    "                    current = &(*current)[item];\n",
    "                }\n",
    "            }\n",
    "            return current;\n",
    "        }\n",
    "\n",
    "        template <class T>\n",
    "        void set_json(nl::json& patch, const xjson_path_type& path, const T& value)\n",
    "        {\n",
    "            nl::json* json = get_json(patch, path);\n",
    "            if (json != nullptr)\n",
    "            {\n",
    "                (*json) = value;\n",
    "            }\n",
    "        }\n",
    "\n",
    "        void insert_buffer_path(nl::json& patch, const nl::json& path, std::size_t buffer_index)\n",
    "        {\n",
    "            xjson_path_type p = path;\n",
    "            detail::set_json(patch, p, xbuffer_reference_prefix() + std::to_string(buffer_index));\n",
    "        }\n",
    "    }\n",
    "\n",
    "    void reorder_buffer_paths(\n",
    "        const std::vector<xjson_path_type>& buffer_paths,\n",
    "        const nl::json& patch,\n",
    "        std::vector<nl::json>& out\n",
    "    )\n",
    "    {\n",
    "        auto ensure_out_size = [&out](std::size_t size)\n",
    "        {\n",
    "            if (out.size() < size)\n",
    "            {\n",
    "                out.resize(size, nullptr);\n",
    "            }\n",
    "        };\n",
    "\n",
    "        ensure_out_size(buffer_paths.size());\n",
    "        for (const auto& path : buffer_paths)\n",
    "        {\n",
    "            const nl::json* item = detail::get_buffers(patch, path);\n",
    "            if (item != nullptr && item->is_string())\n",
    "            {\n",
    "                const auto& leaf = item->get<std::string>();\n",
    "                if (is_buffer_reference(leaf))\n",
    "                {\n",
    "                    auto const idx = buffer_index(leaf);\n",
    "                    // Idx may be greater than to_check.size() when the buffers are used with\n",
    "                    // multiple states\n",
    "                    ensure_out_size(idx + 1);\n",
    "                    out[idx] = path;\n",
    "                }\n",
    "            }\n",
    "        }\n",
    "    }\n",
    "\n",
    "    void insert_buffer_paths(nl::json& patch, const nl::json& buffer_paths)\n",
    "    {\n",
    "        for (std::size_t i = 0; i != buffer_paths.size(); ++i)\n",
    "        {\n",
    "            detail::insert_buffer_path(patch, buffer_paths[i], i);\n",
    "        }\n",
    "    }\n",
    "}"
   ]
  },
  {
   "cell_type": "code",
   "execution_count": 5,
   "metadata": {
    "jupyter": {
     "source_hidden": true
    }
   },
   "outputs": [],
   "source": [
    "/***************************************************************************\n",
    " * Copyright (c) 2017, Sylvain Corlay and Johan Mabille                     *\n",
    " *                                                                          *\n",
    " * Distributed under the terms of the BSD 3-Clause License.                 *\n",
    " *                                                                          *\n",
    " * The full license is in the file LICENSE, distributed with this software. *\n",
    " ****************************************************************************/\n",
    "\n",
    "#include \"xwidgets/xfactory.hpp\"\n",
    "\n",
    "#include <utility>\n",
    "\n",
    "namespace nl = nlohmann;\n",
    "\n",
    "namespace xw\n",
    "{\n",
    "    void xfactory::register_maker(\n",
    "        const std::string& model_module,\n",
    "        const std::string& model_name,\n",
    "        const std::string& view_module,\n",
    "        const std::string& view_name,\n",
    "        maker_type maker\n",
    "    )\n",
    "    {\n",
    "        m_makers[model_module + model_name + view_module + view_name] = std::move(maker);\n",
    "    }\n",
    "\n",
    "    void xfactory::make(xeus::xcomm&& comm, const nl::json& state, const xeus::buffer_sequence& buffers) const\n",
    "    {\n",
    "        std::string model_module = state[\"_model_module\"];\n",
    "        std::string model_name = state[\"_model_name\"];\n",
    "        std::string view_module = state[\"_view_module\"];\n",
    "        std::string view_name = state[\"_view_name\"];\n",
    "        m_makers.at(model_module + model_name + view_module + view_name)(std::move(comm), state, buffers);\n",
    "    }\n",
    "\n",
    "    xfactory& get_xfactory()\n",
    "    {\n",
    "        static xfactory factory;\n",
    "        return factory;\n",
    "    }\n",
    "}"
   ]
  },
  {
   "cell_type": "code",
   "execution_count": 6,
   "metadata": {
    "jupyter": {
     "source_hidden": true
    }
   },
   "outputs": [],
   "source": [
    "#include \"xwidgets/xholder.hpp\"\n",
    "\n",
    "#include <string>\n",
    "#include <utility>\n",
    "\n",
    "namespace xw\n",
    "{\n",
    "    xholder::xholder()\n",
    "        : p_holder(nullptr)\n",
    "    {\n",
    "    }\n",
    "\n",
    "    xholder::xholder(detail::xholder_impl* holder)\n",
    "        : p_holder(holder)\n",
    "    {\n",
    "    }\n",
    "\n",
    "    xholder::~xholder()\n",
    "    {\n",
    "        delete p_holder;\n",
    "    }\n",
    "\n",
    "    xholder::xholder(const xholder& rhs)\n",
    "        : p_holder(rhs.p_holder ? rhs.p_holder->clone() : nullptr)\n",
    "    {\n",
    "    }\n",
    "\n",
    "    xholder::xholder(xholder&& rhs)\n",
    "        : p_holder(rhs.p_holder)\n",
    "    {\n",
    "        rhs.p_holder = nullptr;\n",
    "    }\n",
    "\n",
    "    xholder& xholder::operator=(const xholder& rhs)\n",
    "    {\n",
    "        using std::swap;\n",
    "        xholder tmp(rhs);\n",
    "        swap(*this, tmp);\n",
    "        return *this;\n",
    "    }\n",
    "\n",
    "    xholder& xholder::operator=(xholder&& rhs)\n",
    "    {\n",
    "        using std::swap;\n",
    "        xholder tmp(std::move(rhs));\n",
    "        swap(*this, tmp);\n",
    "        return *this;\n",
    "    }\n",
    "\n",
    "    void xholder::swap(xholder& rhs)\n",
    "    {\n",
    "        std::swap(p_holder, rhs.p_holder);\n",
    "    }\n",
    "\n",
    "    void xholder::display() const\n",
    "    {\n",
    "        check_holder();\n",
    "        p_holder->display();\n",
    "    }\n",
    "\n",
    "    xeus::xguid xholder::id() const\n",
    "    {\n",
    "        check_holder();\n",
    "        return p_holder->id();\n",
    "    }\n",
    "\n",
    "    void xholder::serialize_state(nl::json& state, xeus::buffer_sequence& buffers) const\n",
    "    {\n",
    "        check_holder();\n",
    "        return p_holder->serialize_state(state, buffers);\n",
    "    }\n",
    "\n",
    "    const std::vector<xjson_path_type>& xholder::buffer_paths() const\n",
    "    {\n",
    "        check_holder();\n",
    "        return p_holder->buffer_paths();\n",
    "    }\n",
    "\n",
    "    xtl::any xholder::value() &\n",
    "    {\n",
    "        check_holder();\n",
    "        return p_holder->value();\n",
    "    }\n",
    "\n",
    "    const xtl::any xholder::value() const&\n",
    "    {\n",
    "        check_holder();\n",
    "        return p_holder->value();\n",
    "    }\n",
    "\n",
    "    void xholder::check_holder() const\n",
    "    {\n",
    "        if (p_holder == nullptr)\n",
    "        {\n",
    "            throw std::runtime_error(\"The holder does not contain a widget\");\n",
    "        }\n",
    "    }\n",
    "\n",
    "    void swap(xholder& lhs, xholder& rhs)\n",
    "    {\n",
    "        lhs.swap(rhs);\n",
    "    }\n",
    "\n",
    "    /****************************************\n",
    "     * to_json and from_json implementation *\n",
    "     ****************************************/\n",
    "\n",
    "    void to_json(nl::json& j, const xholder& o)\n",
    "    {\n",
    "        j = \"IPY_MODEL_\" + std::string(o.id());\n",
    "    }\n",
    "\n",
    "    void from_json(const nl::json& j, xholder& o)\n",
    "    {\n",
    "        std::string prefixed_guid = j;\n",
    "        xeus::xguid guid = prefixed_guid.substr(10).c_str();\n",
    "        o = make_id_holder(guid);\n",
    "    }\n",
    "\n",
    "    nl::json mime_bundle_repr(const xholder& val)\n",
    "    {\n",
    "        nl::json mime_bundle;\n",
    "\n",
    "        // application/vnd.jupyter.widget-view+json\n",
    "        nl::json widgets_json;\n",
    "        widgets_json[\"version_major\"] = XWIDGETS_PROTOCOL_VERSION_MAJOR;\n",
    "        widgets_json[\"version_minor\"] = XWIDGETS_PROTOCOL_VERSION_MINOR;\n",
    "        widgets_json[\"model_id\"] = val.id();\n",
    "        mime_bundle[\"application/vnd.jupyter.widget-view+json\"] = std::move(widgets_json);\n",
    "\n",
    "        // text/plain\n",
    "        mime_bundle[\"text/plain\"] = \"A Jupyter widget\";\n",
    "        return mime_bundle;\n",
    "    }\n",
    "}"
   ]
  },
  {
   "cell_type": "code",
   "execution_count": 7,
   "metadata": {
    "jupyter": {
     "source_hidden": true
    }
   },
   "outputs": [],
   "source": [
    "/***************************************************************************\n",
    " * Copyright (c) 2017, Sylvain Corlay and Johan Mabille                     *\n",
    " *                                                                          *\n",
    " * Distributed under the terms of the BSD 3-Clause License.                 *\n",
    " *                                                                          *\n",
    " * The full license is in the file LICENSE, distributed with this software. *\n",
    " ****************************************************************************/\n",
    "\n",
    "#include \"xtarget.hpp\"\n",
    "\n",
    "#include <algorithm>\n",
    "#include <array>\n",
    "#include <stdexcept>\n",
    "#include <string>\n",
    "#include <unordered_map>\n",
    "#include <utility>\n",
    "\n",
    "#include <nlohmann/json.hpp>\n",
    "#include <xeus/xcomm.hpp>\n",
    "#include <xeus/xinterpreter.hpp>\n",
    "\n",
    "#include \"xwidgets/xbinary.hpp\"\n",
    "#include \"xwidgets/xcommon.hpp\"\n",
    "#include \"xwidgets/xfactory.hpp\"\n",
    "#include \"xwidgets/xregistry.hpp\"\n",
    "#include \"xwidgets/xwidgets_config.hpp\"\n",
    "\n",
    "namespace xw\n",
    "{\n",
    "    namespace\n",
    "    {\n",
    "        const char* get_widget_target_name()\n",
    "        {\n",
    "            return \"jupyter.widget\";\n",
    "        }\n",
    "\n",
    "        /**\n",
    "         * Check frontend widget version and instanciate widget.\n",
    "         *\n",
    "         * This callback function is called by Xeus when a comm channel is open by the frontend\n",
    "         * to create a companion widget in the kernel.\n",
    "         */\n",
    "        void xobject_comm_opened(xeus::xcomm&& comm, const xeus::xmessage& msg)\n",
    "        {\n",
    "            const nl::json& content = msg.content();\n",
    "            const nl::json& metadata = msg.metadata();\n",
    "\n",
    "            std::string version;\n",
    "            try\n",
    "            {\n",
    "                version = metadata.at(\"version\").get<std::string>();\n",
    "            }\n",
    "            catch (std::out_of_range const&)\n",
    "            {\n",
    "                version = \"\";\n",
    "            }\n",
    "\n",
    "            if (version.substr(0, version.find(\".\")) != XWIDGETS_STRINGIFY(XWIDGETS_PROTOCOL_VERSION_MAJOR))\n",
    "            {\n",
    "                throw std::runtime_error(\"Incompatible widget protocol versions\");\n",
    "            }\n",
    "\n",
    "            const nl::json& data = content[\"data\"];\n",
    "            const nl::json& state = data[\"state\"];\n",
    "            const xeus::buffer_sequence& buffers = msg.buffers();\n",
    "\n",
    "            xfactory& factory = get_xfactory();\n",
    "            factory.make(std::move(comm), state, buffers);\n",
    "        }\n",
    "\n",
    "        void register_widget_target()\n",
    "        {\n",
    "            xeus::get_interpreter().comm_manager().register_comm_target(\n",
    "                /** The target name */\n",
    "                get_widget_target_name(),\n",
    "                /** Callback for comm opened by the frontend on this target, one per widget */\n",
    "                xobject_comm_opened\n",
    "            );\n",
    "        }\n",
    "    }\n",
    "\n",
    "    xeus::xtarget* get_widget_target()\n",
    "    {\n",
    "        // Making a dummy static variable to only call the registration once.\n",
    "        static const auto initialized = []()\n",
    "        {\n",
    "            register_widget_target();\n",
    "            return true;\n",
    "        }();\n",
    "        return ::xeus::get_interpreter().comm_manager().target(get_widget_target_name());\n",
    "    }\n",
    "\n",
    "    namespace\n",
    "    {\n",
    "        template <typename JsonPath>\n",
    "        std::vector<xjson_path_type>\n",
    "        prepend_to_json_paths(std::vector<xjson_path_type> paths, JsonPath const& prefix)\n",
    "        {\n",
    "            std::for_each(\n",
    "                paths.begin(),\n",
    "                paths.end(),\n",
    "                [&](xjson_path_type& p)\n",
    "                {\n",
    "                    p.insert(p.begin(), prefix.begin(), prefix.end());\n",
    "                }\n",
    "            );\n",
    "            return paths;\n",
    "        }\n",
    "\n",
    "        void\n",
    "        serialize_all_states(nl::json& states, xeus::buffer_sequence& buffers, std::vector<nl::json>& buffer_paths)\n",
    "        {\n",
    "            for (auto const& id_and_widget : get_transport_registry())\n",
    "            {\n",
    "                auto const& holder = id_and_widget.second;\n",
    "                // This is not what the protocol states (?) but what IPyWidgets does\n",
    "                // https://github.com/jupyter-widgets/ipywidgets/issues/3685\n",
    "                nl::json stateish = nl::json::object();\n",
    "                holder.serialize_state(stateish[\"state\"], buffers);\n",
    "                stateish[\"model_name\"] = stateish[\"state\"][\"_model_name\"];\n",
    "                stateish[\"model_module\"] = stateish[\"state\"][\"_model_module\"];\n",
    "                stateish[\"model_module_version\"] = stateish[\"state\"][\"_model_module_version\"];\n",
    "                states[holder.id()] = std::move(stateish);\n",
    "                // Add buffer paths, but add the xguid/state prefix of multi-state schema\n",
    "                reorder_buffer_paths(\n",
    "                    prepend_to_json_paths(holder.buffer_paths(), std::array<std::string, 2>{holder.id(), \"state\"}),\n",
    "                    states,\n",
    "                    buffer_paths\n",
    "                );\n",
    "            }\n",
    "        }\n",
    "\n",
    "        /**\n",
    "         * Register the ``on_message`` callback on the comm to get all widgets states.\n",
    "         *\n",
    "         * This callback function is called by Xeus when a comm channel is open by the frontend\n",
    "         * on the ``jupyter.widget.control`` target.\n",
    "         * This happens when the frontend needs to get the state of all widgets and no immediate\n",
    "         * action is required.\n",
    "         * Following the opening of the comm, the frontend sends a message with a\n",
    "         * ``request_states`` method, to which the kernel replies with the state of all widgets.\n",
    "         *\n",
    "         * After the frontend recieves the ``update_states`` response it closes the comm.\n",
    "         * Additional (and simulataneous) comms can be opened for fetching states.\n",
    "         */\n",
    "        void control_comm_opened(xeus::xcomm&& comm, const xeus::xmessage&)\n",
    "        {\n",
    "            // This is a very simple registry for comm since their lifetime is managed by the\n",
    "            // frontend\n",
    "            static std::unordered_map<xeus::xguid, xeus::xcomm> comm_registry{};\n",
    "\n",
    "            auto iter_inserted = comm_registry.emplace(std::make_pair(comm.id(), std::move(comm)));\n",
    "            // Should really be inserted, but in case it is not, we let the comm gets destroyed and closed\n",
    "            assert(iter_inserted.second);\n",
    "            if (!iter_inserted.second)\n",
    "            {\n",
    "                return;\n",
    "            }\n",
    "\n",
    "            auto& registered_comm = iter_inserted.first->second;\n",
    "\n",
    "            registered_comm.on_message(\n",
    "                [&](const ::xeus::xmessage& msg)\n",
    "                {\n",
    "                    auto const& method = msg.content()[\"data\"][\"method\"];\n",
    "\n",
    "                    nl::json states = nl::json::object();\n",
    "                    xeus::buffer_sequence buffers{};\n",
    "                    std::vector<nl::json> buffer_paths{};\n",
    "                    serialize_all_states(states, buffers, buffer_paths);\n",
    "\n",
    "                    nl::json metadata = {{\"version\", XWIDGETS_PROTOCOL_VERSION}};\n",
    "\n",
    "                    nl::json data = nl::json::object();\n",
    "                    data[\"method\"] = \"update_states\";\n",
    "                    data[\"states\"] = std::move(states);\n",
    "                    data[\"buffer_paths\"] = std::move(buffer_paths);\n",
    "\n",
    "                    registered_comm.send(std::move(metadata), std::move(data), std::move(buffers));\n",
    "                }\n",
    "            );\n",
    "\n",
    "            registered_comm.on_close(\n",
    "                [&](const ::xeus::xmessage&)\n",
    "                {\n",
    "                    // This is not trivial. The comm is destructed from within one of its method.\n",
    "                    // This works because no other instruction are executed by Xeus afterwards.\n",
    "                    comm_registry.erase(registered_comm.id());\n",
    "                }\n",
    "            );\n",
    "        }\n",
    "\n",
    "        const char* get_control_target_name()\n",
    "        {\n",
    "            return \"jupyter.widget.control\";\n",
    "        }\n",
    "\n",
    "        /**\n",
    "         * Register the ``jupyter.widget.control`` Xeus target.\n",
    "         *\n",
    "         * This target is used by the frontend to get the state of all widget in a single message\n",
    "         * (_e.g._ when restarting).\n",
    "         */\n",
    "        void register_control_target()\n",
    "        {\n",
    "            xeus::get_interpreter().comm_manager().register_comm_target(\n",
    "                /** The target name */\n",
    "                get_control_target_name(),\n",
    "                /** Callback for comm opened by the frontend on this target */\n",
    "                control_comm_opened\n",
    "            );\n",
    "        }\n",
    "\n",
    "        // Making a dummy static variable to call the registration at load time.\n",
    "        static const auto initialized = []()\n",
    "        {\n",
    "            register_control_target();\n",
    "            return true;\n",
    "        }();\n",
    "    }\n",
    "}"
   ]
  },
  {
   "cell_type": "code",
   "execution_count": 3,
   "metadata": {},
   "outputs": [],
   "source": [
    "xw::slider<double> slider;"
   ]
  },
  {
   "cell_type": "code",
   "execution_count": 4,
   "metadata": {
    "scrolled": true
   },
   "outputs": [
    {
     "data": {
      "application/vnd.jupyter.widget-view+json": {
       "model_id": "84ceeb5dd2e8426dafd20557bba5da1c",
       "version_major": 2,
       "version_minor": 1
      },
      "text/plain": [
       "A Jupyter widget with unique id: 84ceeb5dd2e8426dafd20557bba5da1c"
      ]
     },
     "execution_count": 4,
     "metadata": {},
     "output_type": "execute_result"
    }
   ],
   "source": [
    "slider               // If the semicolon is ommitted in the last line, the return value is displayed."
   ]
  },
  {
   "cell_type": "code",
   "execution_count": 5,
   "metadata": {
    "scrolled": true
   },
   "outputs": [
    {
     "data": {
      "text/plain": [
       "20.000000"
      ]
     },
     "execution_count": 5,
     "metadata": {},
     "output_type": "execute_result"
    }
   ],
   "source": [
    "slider.value = 20;      // Modifying properties of widgets triggers the update of the frontend."
   ]
  },
  {
   "cell_type": "code",
   "execution_count": 6,
   "metadata": {
    "scrolled": true
   },
   "outputs": [
    {
     "data": {
      "text/plain": [
       "20.000000"
      ]
     },
     "execution_count": 6,
     "metadata": {},
     "output_type": "execute_result"
    }
   ],
   "source": [
    "slider.value()          // Reading the value requires using the call operator"
   ]
  },
  {
   "cell_type": "code",
   "execution_count": 7,
   "metadata": {
    "scrolled": true
   },
   "outputs": [],
   "source": [
    "// changine some more properties\n",
    "slider.max = 40;\n",
    "slider.style().handle_color = \"blue\";\n",
    "slider.orientation = \"vertical\";\n",
    "slider.description = \"A slider\";"
   ]
  },
  {
   "cell_type": "code",
   "execution_count": 8,
   "metadata": {
    "scrolled": true
   },
   "outputs": [],
   "source": [
    "#include \"xcpp/xdisplay.hpp\"\n",
    "\n",
    "using xcpp::display;"
   ]
  },
  {
   "cell_type": "code",
   "execution_count": 9,
   "metadata": {
    "scrolled": true
   },
   "outputs": [
    {
     "data": {
      "application/vnd.jupyter.widget-view+json": {
       "model_id": "84ceeb5dd2e8426dafd20557bba5da1c",
       "version_major": 2,
       "version_minor": 1
      },
      "text/plain": [
       "A Jupyter widget with unique id: 84ceeb5dd2e8426dafd20557bba5da1c"
      ]
     },
     "metadata": {},
     "output_type": "display_data"
    }
   ],
   "source": [
    "display(slider);       // xcpp::display can be called to explicitely trigger a the display of an object."
   ]
  },
  {
   "cell_type": "markdown",
   "metadata": {},
   "source": [
    "## Using operator chaining to mimic keyword arguments"
   ]
  },
  {
   "cell_type": "code",
   "execution_count": 10,
   "metadata": {
    "scrolled": true
   },
   "outputs": [
    {
     "data": {
      "application/vnd.jupyter.widget-view+json": {
       "model_id": "a08687c1effd43e08cde3fa019d28eb3",
       "version_major": 2,
       "version_minor": 1
      },
      "text/plain": [
       "A Jupyter widget with unique id: a08687c1effd43e08cde3fa019d28eb3"
      ]
     },
     "metadata": {},
     "output_type": "display_data"
    }
   ],
   "source": [
    "auto other_slider = xw::slider<double>::initialize()\n",
    "    .min(-1.0)\n",
    "    .max(1.0)\n",
    "    .description(\"Another slider\")\n",
    "    .finalize();\n",
    "\n",
    "display(other_slider);"
   ]
  },
  {
   "cell_type": "markdown",
   "metadata": {},
   "source": [
    "## Progress"
   ]
  },
  {
   "cell_type": "code",
   "execution_count": 11,
   "metadata": {
    "scrolled": true
   },
   "outputs": [],
   "source": [
    "#include \"xwidgets/xprogress.hpp\""
   ]
  },
  {
   "cell_type": "code",
   "execution_count": 12,
   "metadata": {
    "scrolled": true
   },
   "outputs": [],
   "source": [
    "xw::progress<double> progress;"
   ]
  },
  {
   "cell_type": "code",
   "execution_count": 13,
   "metadata": {
    "scrolled": true
   },
   "outputs": [
    {
     "data": {
      "application/vnd.jupyter.widget-view+json": {
       "model_id": "136670db865c470ba658df26480a0554",
       "version_major": 2,
       "version_minor": 1
      },
      "text/plain": [
       "A Jupyter widget with unique id: 136670db865c470ba658df26480a0554"
      ]
     },
     "execution_count": 13,
     "metadata": {},
     "output_type": "execute_result"
    }
   ],
   "source": [
    "progress"
   ]
  },
  {
   "cell_type": "code",
   "execution_count": 14,
   "metadata": {
    "scrolled": true
   },
   "outputs": [],
   "source": [
    "progress.value = 60;"
   ]
  },
  {
   "cell_type": "code",
   "execution_count": 15,
   "metadata": {
    "scrolled": true
   },
   "outputs": [],
   "source": [
    "progress.style().bar_color = \"red\";"
   ]
  },
  {
   "cell_type": "code",
   "execution_count": 16,
   "metadata": {
    "scrolled": true
   },
   "outputs": [],
   "source": [
    "progress.description = \"Completion\";"
   ]
  },
  {
   "cell_type": "code",
   "execution_count": 17,
   "metadata": {
    "scrolled": true
   },
   "outputs": [
    {
     "data": {
      "text/plain": [
       "\"30px\""
      ]
     },
     "execution_count": 17,
     "metadata": {},
     "output_type": "execute_result"
    }
   ],
   "source": [
    "progress.style().description_width = \"30px\""
   ]
  },
  {
   "cell_type": "markdown",
   "metadata": {},
   "source": [
    "## Numerical input"
   ]
  },
  {
   "cell_type": "code",
   "execution_count": 18,
   "metadata": {
    "scrolled": true
   },
   "outputs": [
    {
     "name": "stderr",
     "output_type": "stream",
     "text": [
      "\u001b[1minput_line_32:1:10: \u001b[0m\u001b[0;1;31mfatal error: \u001b[0m\u001b[1m'xwidgets/xnumeral.hpp' file not found\u001b[0m\n",
      "#include \"xwidgets/xnumeral.hpp\"\n",
      "\u001b[0;1;32m         ^~~~~~~~~~~~~~~~~~~~~~~\n",
      "\u001b[0m"
     ]
    },
    {
     "ename": "Interpreter Error",
     "evalue": "",
     "output_type": "error",
     "traceback": [
      "Interpreter Error: "
     ]
    }
   ],
   "source": [
    "#include \"xwidgets/xnumeral.hpp\""
   ]
  },
  {
   "cell_type": "code",
   "execution_count": 19,
   "metadata": {
    "scrolled": true
   },
   "outputs": [
    {
     "name": "stderr",
     "output_type": "stream",
     "text": [
      "\u001b[1minput_line_33:2:6: \u001b[0m\u001b[0;1;31merror: \u001b[0m\u001b[1mno member named 'numeral' in namespace 'xw'\u001b[0m\n",
      " xw::numeral<double> numeral;\n",
      "\u001b[0;1;32m ~~~~^\n",
      "\u001b[0m\u001b[1minput_line_33:2:20: \u001b[0m\u001b[0;1;31merror: \u001b[0m\u001b[1mexpected '(' for function-style cast or type construction\u001b[0m\n",
      " xw::numeral<double> numeral;\n",
      "\u001b[0;1;32m             ~~~~~~^\n",
      "\u001b[0m\u001b[1minput_line_33:2:22: \u001b[0m\u001b[0;1;31merror: \u001b[0m\u001b[1muse of undeclared identifier 'numeral'\u001b[0m\n",
      " xw::numeral<double> numeral;\n",
      "\u001b[0;1;32m                     ^\n",
      "\u001b[0m\u001b[1minput_line_33:3:1: \u001b[0m\u001b[0;1;31merror: \u001b[0m\u001b[1muse of undeclared identifier 'numeral'\u001b[0m\n",
      "numeral\n",
      "\u001b[0;1;32m^\n",
      "\u001b[0m"
     ]
    },
    {
     "ename": "Interpreter Error",
     "evalue": "",
     "output_type": "error",
     "traceback": [
      "Interpreter Error: "
     ]
    }
   ],
   "source": [
    "xw::numeral<double> numeral;\n",
    "numeral"
   ]
  },
  {
   "cell_type": "code",
   "execution_count": 20,
   "metadata": {
    "scrolled": true
   },
   "outputs": [
    {
     "name": "stderr",
     "output_type": "stream",
     "text": [
      "\u001b[1minput_line_34:2:2: \u001b[0m\u001b[0;1;31merror: \u001b[0m\u001b[1muse of undeclared identifier 'numeral'\u001b[0m\n",
      " numeral.value = 4\n",
      "\u001b[0;1;32m ^\n",
      "\u001b[0m"
     ]
    },
    {
     "ename": "Interpreter Error",
     "evalue": "",
     "output_type": "error",
     "traceback": [
      "Interpreter Error: "
     ]
    }
   ],
   "source": [
    "numeral.value = 4"
   ]
  },
  {
   "cell_type": "code",
   "execution_count": null,
   "metadata": {
    "scrolled": true
   },
   "outputs": [],
   "source": [
    "numeral.value()"
   ]
  },
  {
   "cell_type": "markdown",
   "metadata": {},
   "source": [
    "## Timer"
   ]
  },
  {
   "cell_type": "code",
   "execution_count": 21,
   "metadata": {
    "scrolled": true
   },
   "outputs": [],
   "source": [
    "#include \"xwidgets/xplay.hpp\""
   ]
  },
  {
   "cell_type": "code",
   "execution_count": 22,
   "metadata": {
    "scrolled": true
   },
   "outputs": [
    {
     "data": {
      "application/vnd.jupyter.widget-view+json": {
       "model_id": "d6ecb49561bc4e32afdbfca765fce921",
       "version_major": 2,
       "version_minor": 1
      },
      "text/plain": [
       "A Jupyter widget with unique id: d6ecb49561bc4e32afdbfca765fce921"
      ]
     },
     "execution_count": 22,
     "metadata": {},
     "output_type": "execute_result"
    }
   ],
   "source": [
    "xw::play play;\n",
    "play"
   ]
  },
  {
   "cell_type": "markdown",
   "metadata": {},
   "source": [
    "# Boolean widgets"
   ]
  },
  {
   "cell_type": "markdown",
   "metadata": {},
   "source": [
    "## Checkbox"
   ]
  },
  {
   "cell_type": "code",
   "execution_count": 23,
   "metadata": {
    "scrolled": true
   },
   "outputs": [],
   "source": [
    "#include \"xwidgets/xcheckbox.hpp\""
   ]
  },
  {
   "cell_type": "code",
   "execution_count": 24,
   "metadata": {
    "scrolled": true
   },
   "outputs": [],
   "source": [
    "xw::checkbox checkbox;"
   ]
  },
  {
   "cell_type": "code",
   "execution_count": 25,
   "metadata": {
    "scrolled": true
   },
   "outputs": [
    {
     "data": {
      "application/vnd.jupyter.widget-view+json": {
       "model_id": "cbe4852905bf450f84bdbd434314566c",
       "version_major": 2,
       "version_minor": 1
      },
      "text/plain": [
       "A Jupyter widget with unique id: cbe4852905bf450f84bdbd434314566c"
      ]
     },
     "execution_count": 25,
     "metadata": {},
     "output_type": "execute_result"
    }
   ],
   "source": [
    "checkbox"
   ]
  },
  {
   "cell_type": "code",
   "execution_count": 26,
   "metadata": {
    "scrolled": true
   },
   "outputs": [],
   "source": [
    "checkbox.value = true;"
   ]
  },
  {
   "cell_type": "code",
   "execution_count": 27,
   "metadata": {
    "scrolled": true
   },
   "outputs": [],
   "source": [
    "checkbox.indent = false;"
   ]
  },
  {
   "cell_type": "markdown",
   "metadata": {},
   "source": [
    "## Toggle button"
   ]
  },
  {
   "cell_type": "code",
   "execution_count": 28,
   "metadata": {
    "scrolled": true
   },
   "outputs": [],
   "source": [
    "#include \"xwidgets/xtogglebutton.hpp\""
   ]
  },
  {
   "cell_type": "code",
   "execution_count": 29,
   "metadata": {
    "scrolled": true
   },
   "outputs": [],
   "source": [
    "xw::togglebutton toggle;"
   ]
  },
  {
   "cell_type": "code",
   "execution_count": 30,
   "metadata": {
    "scrolled": true
   },
   "outputs": [
    {
     "data": {
      "application/vnd.jupyter.widget-view+json": {
       "model_id": "424edcb1e66a4908a681d66abab48613",
       "version_major": 2,
       "version_minor": 1
      },
      "text/plain": [
       "A Jupyter widget with unique id: 424edcb1e66a4908a681d66abab48613"
      ]
     },
     "execution_count": 30,
     "metadata": {},
     "output_type": "execute_result"
    }
   ],
   "source": [
    "toggle"
   ]
  },
  {
   "cell_type": "code",
   "execution_count": null,
   "metadata": {
    "scrolled": true
   },
   "outputs": [],
   "source": [
    "toggle.value = true;"
   ]
  },
  {
   "cell_type": "code",
   "execution_count": null,
   "metadata": {
    "scrolled": true
   },
   "outputs": [],
   "source": [
    "toggle.description = \"toggle\";"
   ]
  },
  {
   "cell_type": "markdown",
   "metadata": {},
   "source": [
    "## Valid check"
   ]
  },
  {
   "cell_type": "code",
   "execution_count": null,
   "metadata": {
    "scrolled": true
   },
   "outputs": [],
   "source": [
    "#include \"xwidgets/xvalid.hpp\""
   ]
  },
  {
   "cell_type": "code",
   "execution_count": null,
   "metadata": {
    "scrolled": true
   },
   "outputs": [],
   "source": [
    "xw::valid valid;"
   ]
  },
  {
   "cell_type": "code",
   "execution_count": null,
   "metadata": {
    "scrolled": true
   },
   "outputs": [],
   "source": [
    "valid"
   ]
  },
  {
   "cell_type": "code",
   "execution_count": null,
   "metadata": {
    "scrolled": true
   },
   "outputs": [],
   "source": [
    "valid.value = true;"
   ]
  },
  {
   "cell_type": "markdown",
   "metadata": {},
   "source": [
    "# String widgets"
   ]
  },
  {
   "cell_type": "markdown",
   "metadata": {},
   "source": [
    "## Label widget"
   ]
  },
  {
   "cell_type": "code",
   "execution_count": null,
   "metadata": {
    "scrolled": true
   },
   "outputs": [],
   "source": [
    "#include \"xwidgets/xlabel.hpp\""
   ]
  },
  {
   "cell_type": "code",
   "execution_count": null,
   "metadata": {
    "scrolled": true
   },
   "outputs": [],
   "source": [
    "xw::label label;"
   ]
  },
  {
   "cell_type": "code",
   "execution_count": null,
   "metadata": {
    "scrolled": true
   },
   "outputs": [],
   "source": [
    "label"
   ]
  },
  {
   "cell_type": "code",
   "execution_count": null,
   "metadata": {
    "scrolled": true
   },
   "outputs": [],
   "source": [
    "label.value = \"Some caption\";"
   ]
  },
  {
   "cell_type": "markdown",
   "metadata": {},
   "source": [
    "## HTML widget"
   ]
  },
  {
   "cell_type": "code",
   "execution_count": null,
   "metadata": {
    "scrolled": true
   },
   "outputs": [],
   "source": [
    "#include \"xwidgets/xhtml.hpp\""
   ]
  },
  {
   "cell_type": "code",
   "execution_count": null,
   "metadata": {
    "scrolled": true
   },
   "outputs": [],
   "source": [
    "xw::html html;"
   ]
  },
  {
   "cell_type": "code",
   "execution_count": null,
   "metadata": {
    "scrolled": true
   },
   "outputs": [],
   "source": [
    "html.value = R\"xhtml(\n",
    "    <div style=\"\n",
    "        width: 50%;\n",
    "        height: 100px;\n",
    "        background: #323;\n",
    "        color: white;\n",
    "        text-align: center;\"\n",
    "        >Some HTML\n",
    "    </div>\n",
    ")xhtml\";\n",
    "html"
   ]
  },
  {
   "cell_type": "markdown",
   "metadata": {},
   "source": [
    "## Text widget"
   ]
  },
  {
   "cell_type": "code",
   "execution_count": null,
   "metadata": {
    "scrolled": true
   },
   "outputs": [],
   "source": [
    "#include <iostream>\n",
    "#include \"xwidgets/xtext.hpp\""
   ]
  },
  {
   "cell_type": "code",
   "execution_count": null,
   "metadata": {
    "scrolled": true
   },
   "outputs": [],
   "source": [
    "xw::text text;\n",
    "text.value = \"Some text\";\n",
    "text"
   ]
  },
  {
   "cell_type": "code",
   "execution_count": null,
   "metadata": {
    "scrolled": true
   },
   "outputs": [],
   "source": [
    "void submit_callback()\n",
    "{\n",
    "    std::cout << \"submitted\" << std::endl;\n",
    "}"
   ]
  },
  {
   "cell_type": "code",
   "execution_count": null,
   "metadata": {
    "scrolled": true
   },
   "outputs": [],
   "source": [
    "text.on_submit(submit_callback);"
   ]
  },
  {
   "cell_type": "markdown",
   "metadata": {},
   "source": [
    "## Textarea widget"
   ]
  },
  {
   "cell_type": "code",
   "execution_count": null,
   "metadata": {
    "scrolled": true
   },
   "outputs": [],
   "source": [
    "#include \"xwidgets/xtextarea.hpp\""
   ]
  },
  {
   "cell_type": "code",
   "execution_count": null,
   "metadata": {
    "scrolled": true
   },
   "outputs": [],
   "source": [
    "xw::textarea textarea;\n",
    "textarea.value = R\"textarea(Lorem ipsum dolor sit amet, consectetur \n",
    "adipiscing elit,  sed do eiusmod tempor incididunt ut labore et dolore\n",
    "magna aliqua. Ut enim ad minim veniam, quis nostrud exercitation ullamco\n",
    "laboris  nisi ut aliquip ex ea commodo consequat. Duis aute irure dolor\n",
    "in reprehenderit in voluptate velit esse cillum dolore eu fugiat nulla \n",
    "pariatur. Excepteur sint occaecat cupidatat non proident, sunt in culpa \n",
    "qui officia deserunt mollit anim id est laborum.\n",
    ")textarea\";\n",
    "textarea"
   ]
  },
  {
   "cell_type": "markdown",
   "metadata": {},
   "source": [
    "## Password widget"
   ]
  },
  {
   "cell_type": "code",
   "execution_count": null,
   "metadata": {
    "scrolled": true
   },
   "outputs": [],
   "source": [
    "#include \"xwidgets/xpassword.hpp\""
   ]
  },
  {
   "cell_type": "code",
   "execution_count": null,
   "metadata": {
    "scrolled": true
   },
   "outputs": [],
   "source": [
    "xw::password password;"
   ]
  },
  {
   "cell_type": "code",
   "execution_count": null,
   "metadata": {
    "scrolled": true
   },
   "outputs": [],
   "source": [
    "password"
   ]
  },
  {
   "cell_type": "markdown",
   "metadata": {},
   "source": [
    "# Button widget"
   ]
  },
  {
   "cell_type": "code",
   "execution_count": null,
   "metadata": {
    "scrolled": true
   },
   "outputs": [],
   "source": [
    "#include <iostream>\n",
    "#include \"xwidgets/xbutton.hpp\""
   ]
  },
  {
   "cell_type": "code",
   "execution_count": null,
   "metadata": {
    "scrolled": true
   },
   "outputs": [],
   "source": [
    "xw::button bt;"
   ]
  },
  {
   "cell_type": "code",
   "execution_count": null,
   "metadata": {
    "scrolled": true
   },
   "outputs": [],
   "source": [
    "void foo()\n",
    "{\n",
    "    std::cout << \"Clicked!\" << std::endl;\n",
    "}"
   ]
  },
  {
   "cell_type": "code",
   "execution_count": null,
   "metadata": {
    "scrolled": true
   },
   "outputs": [],
   "source": [
    "bt.on_click(foo);\n",
    "    \n",
    "bt"
   ]
  },
  {
   "cell_type": "code",
   "execution_count": null,
   "metadata": {
    "scrolled": true
   },
   "outputs": [],
   "source": [
    "bt.description = \"button\";"
   ]
  },
  {
   "cell_type": "code",
   "execution_count": null,
   "metadata": {
    "scrolled": true
   },
   "outputs": [],
   "source": [
    "bt.button_style = \"success\";"
   ]
  },
  {
   "cell_type": "code",
   "execution_count": null,
   "metadata": {
    "scrolled": true
   },
   "outputs": [],
   "source": [
    "bt.button_style = \"some invalid value\";  // values are validated upon assignment"
   ]
  },
  {
   "cell_type": "code",
   "execution_count": null,
   "metadata": {
    "scrolled": true
   },
   "outputs": [],
   "source": [
    "std::cout << bt.button_style();"
   ]
  },
  {
   "cell_type": "markdown",
   "metadata": {
    "collapsed": true,
    "jupyter": {
     "outputs_hidden": true
    }
   },
   "source": [
    "# Widgets layout"
   ]
  },
  {
   "cell_type": "code",
   "execution_count": null,
   "metadata": {
    "scrolled": true
   },
   "outputs": [],
   "source": [
    "bt.layout().width = \"50%\";\n",
    "bt.layout().height = \"200px\";"
   ]
  },
  {
   "cell_type": "code",
   "execution_count": null,
   "metadata": {
    "scrolled": true
   },
   "outputs": [],
   "source": [
    "bt.style().button_color = \"#888\";"
   ]
  },
  {
   "cell_type": "markdown",
   "metadata": {},
   "source": [
    "# Value semantics"
   ]
  },
  {
   "cell_type": "code",
   "execution_count": null,
   "metadata": {
    "scrolled": true
   },
   "outputs": [],
   "source": [
    "xw::button bt_copy = bt;"
   ]
  },
  {
   "cell_type": "code",
   "execution_count": null,
   "metadata": {
    "scrolled": true
   },
   "outputs": [],
   "source": [
    "bt_copy"
   ]
  },
  {
   "cell_type": "code",
   "execution_count": null,
   "metadata": {
    "scrolled": true
   },
   "outputs": [],
   "source": [
    "bt.style().button_color = \"red\";\n",
    "bt_copy.style().button_color = \"green\";"
   ]
  },
  {
   "cell_type": "code",
   "execution_count": null,
   "metadata": {
    "scrolled": true
   },
   "outputs": [],
   "source": [
    "#include \"xwidgets/xslider.hpp\""
   ]
  },
  {
   "cell_type": "code",
   "execution_count": null,
   "metadata": {
    "scrolled": true
   },
   "outputs": [],
   "source": [
    "xw::slider<double> slide1;\n",
    "slide1.value = 4.0;"
   ]
  },
  {
   "cell_type": "code",
   "execution_count": null,
   "metadata": {
    "scrolled": true
   },
   "outputs": [],
   "source": [
    "xw::slider<double> slide2 = slide1;"
   ]
  },
  {
   "cell_type": "code",
   "execution_count": null,
   "metadata": {
    "scrolled": true
   },
   "outputs": [],
   "source": [
    "slide2"
   ]
  },
  {
   "cell_type": "markdown",
   "metadata": {
    "collapsed": true,
    "jupyter": {
     "outputs_hidden": true
    }
   },
   "source": [
    "# Link widget"
   ]
  },
  {
   "cell_type": "code",
   "execution_count": null,
   "metadata": {
    "scrolled": true
   },
   "outputs": [],
   "source": [
    "#include \"xwidgets/xslider.hpp\"\n",
    "#include \"xwidgets/xlink.hpp\"\n",
    "#include \"xwidgets/xbox.hpp\""
   ]
  },
  {
   "cell_type": "code",
   "execution_count": null,
   "metadata": {
    "scrolled": true
   },
   "outputs": [],
   "source": [
    "xw::slider<double> s1, s2;\n",
    "\n",
    "s1.description = \"Slider 1\";\n",
    "s2.description = \"Slider 2\";"
   ]
  },
  {
   "cell_type": "code",
   "execution_count": null,
   "metadata": {
    "scrolled": true
   },
   "outputs": [],
   "source": [
    "auto l = xw::link(s1, \"value\", s2, \"value\");"
   ]
  },
  {
   "cell_type": "code",
   "execution_count": null,
   "metadata": {
    "scrolled": true
   },
   "outputs": [],
   "source": [
    "s1"
   ]
  },
  {
   "cell_type": "code",
   "execution_count": null,
   "metadata": {
    "scrolled": true
   },
   "outputs": [],
   "source": [
    "s2"
   ]
  },
  {
   "cell_type": "code",
   "execution_count": null,
   "metadata": {
    "scrolled": true
   },
   "outputs": [],
   "source": [
    "xw::slider<double> source, target;"
   ]
  },
  {
   "cell_type": "code",
   "execution_count": null,
   "metadata": {
    "scrolled": true
   },
   "outputs": [],
   "source": [
    "auto dl = xw::directional_link(source, \"value\", target, \"value\");"
   ]
  },
  {
   "cell_type": "code",
   "execution_count": null,
   "metadata": {
    "scrolled": true
   },
   "outputs": [],
   "source": [
    "source"
   ]
  },
  {
   "cell_type": "code",
   "execution_count": null,
   "metadata": {
    "scrolled": true
   },
   "outputs": [],
   "source": [
    "target"
   ]
  },
  {
   "cell_type": "markdown",
   "metadata": {},
   "source": [
    "# Box widgets"
   ]
  },
  {
   "cell_type": "code",
   "execution_count": null,
   "metadata": {
    "scrolled": true
   },
   "outputs": [],
   "source": [
    "#include \"xwidgets/xbutton.hpp\"\n",
    "#include \"xwidgets/xslider.hpp\"\n",
    "#include \"xwidgets/xbox.hpp\""
   ]
  },
  {
   "cell_type": "code",
   "execution_count": null,
   "metadata": {
    "scrolled": true
   },
   "outputs": [],
   "source": [
    "xw::vbox b;\n",
    "xw::slider<double> slid1;\n",
    "slid1.description = \"Slider 1\";\n",
    "xw::slider<double> slid2;\n",
    "slid2.description = \"Slider 2\";"
   ]
  },
  {
   "cell_type": "code",
   "execution_count": null,
   "metadata": {
    "scrolled": true
   },
   "outputs": [],
   "source": [
    "b.add(xw::button());\n",
    "b.add(slid1);\n",
    "b.add(slid2);"
   ]
  },
  {
   "cell_type": "code",
   "execution_count": null,
   "metadata": {
    "scrolled": true
   },
   "outputs": [],
   "source": [
    "b"
   ]
  },
  {
   "cell_type": "code",
   "execution_count": null,
   "metadata": {},
   "outputs": [],
   "source": [
    "b.remove(slid1)"
   ]
  },
  {
   "cell_type": "code",
   "execution_count": null,
   "metadata": {},
   "outputs": [],
   "source": [
    "b.clear()"
   ]
  },
  {
   "cell_type": "markdown",
   "metadata": {},
   "source": [
    "## Controller"
   ]
  },
  {
   "cell_type": "code",
   "execution_count": null,
   "metadata": {
    "scrolled": true
   },
   "outputs": [],
   "source": [
    "#include \"xwidgets/xcontroller.hpp\""
   ]
  },
  {
   "cell_type": "code",
   "execution_count": null,
   "metadata": {
    "scrolled": true
   },
   "outputs": [],
   "source": [
    "xw::controller c"
   ]
  },
  {
   "cell_type": "code",
   "execution_count": null,
   "metadata": {
    "scrolled": true
   },
   "outputs": [],
   "source": [
    "c"
   ]
  },
  {
   "cell_type": "markdown",
   "metadata": {},
   "source": [
    "# Selection widgets"
   ]
  },
  {
   "cell_type": "markdown",
   "metadata": {},
   "source": [
    "## Toggle buttons"
   ]
  },
  {
   "cell_type": "code",
   "execution_count": null,
   "metadata": {},
   "outputs": [],
   "source": [
    "#include \"xwidgets/xtogglebuttons.hpp\""
   ]
  },
  {
   "cell_type": "code",
   "execution_count": null,
   "metadata": {
    "scrolled": true
   },
   "outputs": [],
   "source": [
    "xw::togglebuttons tb(std::vector<std::string>({\"foo\", \"bar\"}), \"foo\");"
   ]
  },
  {
   "cell_type": "code",
   "execution_count": null,
   "metadata": {
    "scrolled": true
   },
   "outputs": [],
   "source": [
    "tb"
   ]
  },
  {
   "cell_type": "code",
   "execution_count": null,
   "metadata": {
    "scrolled": true
   },
   "outputs": [],
   "source": [
    "tb.value = \"bar\";"
   ]
  },
  {
   "cell_type": "code",
   "execution_count": null,
   "metadata": {
    "scrolled": true
   },
   "outputs": [],
   "source": [
    "tb._options_labels = std::vector<std::string>({\"baz\", \"taz\"});"
   ]
  },
  {
   "cell_type": "markdown",
   "metadata": {},
   "source": [
    "## Dropdown"
   ]
  },
  {
   "cell_type": "code",
   "execution_count": null,
   "metadata": {
    "scrolled": true
   },
   "outputs": [],
   "source": [
    "#include \"xwidgets/xdropdown.hpp\""
   ]
  },
  {
   "cell_type": "code",
   "execution_count": null,
   "metadata": {
    "scrolled": true
   },
   "outputs": [],
   "source": [
    "xw::dropdown dd(std::vector<std::string>({\"foo\", \"bar\"}), \"foo\");"
   ]
  },
  {
   "cell_type": "code",
   "execution_count": null,
   "metadata": {
    "scrolled": true
   },
   "outputs": [],
   "source": [
    "dd"
   ]
  },
  {
   "cell_type": "markdown",
   "metadata": {},
   "source": [
    "## RadioButtons"
   ]
  },
  {
   "cell_type": "code",
   "execution_count": null,
   "metadata": {
    "scrolled": true
   },
   "outputs": [],
   "source": [
    "#include \"xwidgets/xradiobuttons.hpp\""
   ]
  },
  {
   "cell_type": "code",
   "execution_count": null,
   "metadata": {
    "scrolled": true
   },
   "outputs": [],
   "source": [
    "xw::radiobuttons rb(std::vector<std::string>({\"foo\", \"bar\"}), \"foo\");"
   ]
  },
  {
   "cell_type": "code",
   "execution_count": null,
   "metadata": {
    "scrolled": true
   },
   "outputs": [],
   "source": [
    "rb"
   ]
  },
  {
   "cell_type": "markdown",
   "metadata": {
    "collapsed": true,
    "jupyter": {
     "outputs_hidden": true
    }
   },
   "source": [
    "## Select"
   ]
  },
  {
   "cell_type": "code",
   "execution_count": null,
   "metadata": {
    "scrolled": true
   },
   "outputs": [],
   "source": [
    "#include \"xwidgets/xselect.hpp\""
   ]
  },
  {
   "cell_type": "code",
   "execution_count": null,
   "metadata": {
    "scrolled": true
   },
   "outputs": [],
   "source": [
    "xw::select sel(std::vector<std::string>({\"foo\", \"bar\"}), \"foo\");"
   ]
  },
  {
   "cell_type": "code",
   "execution_count": null,
   "metadata": {
    "scrolled": true
   },
   "outputs": [],
   "source": [
    "sel"
   ]
  },
  {
   "cell_type": "code",
   "execution_count": null,
   "metadata": {
    "scrolled": true
   },
   "outputs": [],
   "source": [
    "sel.rows = 3"
   ]
  },
  {
   "cell_type": "markdown",
   "metadata": {},
   "source": [
    "## Selection slider"
   ]
  },
  {
   "cell_type": "code",
   "execution_count": null,
   "metadata": {
    "scrolled": true
   },
   "outputs": [],
   "source": [
    "#include \"xwidgets/xselectionslider.hpp\""
   ]
  },
  {
   "cell_type": "code",
   "execution_count": null,
   "metadata": {
    "scrolled": true
   },
   "outputs": [],
   "source": [
    "xw::selectionslider sslid(std::vector<std::string>({\"foo\", \"bar\", \"baz\", \"taz\"}), \"foo\");"
   ]
  },
  {
   "cell_type": "code",
   "execution_count": null,
   "metadata": {
    "scrolled": true
   },
   "outputs": [],
   "source": [
    "sslid"
   ]
  },
  {
   "cell_type": "markdown",
   "metadata": {
    "collapsed": true,
    "jupyter": {
     "outputs_hidden": true
    }
   },
   "source": [
    "## Multiple Select"
   ]
  },
  {
   "cell_type": "code",
   "execution_count": null,
   "metadata": {
    "scrolled": true
   },
   "outputs": [],
   "source": [
    "#include \"xwidgets/xselect.hpp\""
   ]
  },
  {
   "cell_type": "code",
   "execution_count": null,
   "metadata": {
    "scrolled": true
   },
   "outputs": [],
   "source": [
    "xw::select_multiple mul_sel(std::vector<std::string>({\"foo\", \"bar\"}));"
   ]
  },
  {
   "cell_type": "code",
   "execution_count": null,
   "metadata": {
    "scrolled": true
   },
   "outputs": [],
   "source": [
    "mul_sel"
   ]
  },
  {
   "cell_type": "code",
   "execution_count": null,
   "metadata": {
    "scrolled": true
   },
   "outputs": [],
   "source": [
    "mul_sel.value()"
   ]
  },
  {
   "cell_type": "code",
   "execution_count": null,
   "metadata": {
    "scrolled": true
   },
   "outputs": [],
   "source": [
    "mul_sel.value = std::vector<std::string>();"
   ]
  },
  {
   "cell_type": "markdown",
   "metadata": {},
   "source": [
    "## Selection range slider"
   ]
  },
  {
   "cell_type": "code",
   "execution_count": null,
   "metadata": {
    "scrolled": true
   },
   "outputs": [],
   "source": [
    "#include \"xwidgets/xselectionslider.hpp\""
   ]
  },
  {
   "cell_type": "code",
   "execution_count": null,
   "metadata": {
    "scrolled": true
   },
   "outputs": [],
   "source": [
    "xw::selection_rangeslider range_sslid(std::vector<std::string>({\"foo\", \"bar\", \"baz\", \"taz\"}));"
   ]
  },
  {
   "cell_type": "code",
   "execution_count": null,
   "metadata": {
    "scrolled": true
   },
   "outputs": [],
   "source": [
    "range_sslid"
   ]
  },
  {
   "cell_type": "code",
   "execution_count": null,
   "metadata": {
    "scrolled": true
   },
   "outputs": [],
   "source": [
    "range_sslid.value()"
   ]
  },
  {
   "cell_type": "markdown",
   "metadata": {
    "collapsed": true,
    "jupyter": {
     "outputs_hidden": true
    }
   },
   "source": [
    "# Selection Containers"
   ]
  },
  {
   "cell_type": "markdown",
   "metadata": {},
   "source": [
    "## Tabs"
   ]
  },
  {
   "cell_type": "code",
   "execution_count": null,
   "metadata": {
    "scrolled": true
   },
   "outputs": [],
   "source": [
    "#include \"xwidgets/xtab.hpp\"\n",
    "#include \"xwidgets/xbutton.hpp\"\n",
    "#include \"xwidgets/xslider.hpp\""
   ]
  },
  {
   "cell_type": "code",
   "execution_count": null,
   "metadata": {
    "scrolled": true
   },
   "outputs": [],
   "source": [
    "xw::tab tabs;"
   ]
  },
  {
   "cell_type": "code",
   "execution_count": null,
   "metadata": {
    "scrolled": true
   },
   "outputs": [],
   "source": [
    "xw::slider<double> tab_slid;\n",
    "tabs.add(xw::button());\n",
    "tabs.add(tab_slid);"
   ]
  },
  {
   "cell_type": "code",
   "execution_count": null,
   "metadata": {
    "scrolled": true
   },
   "outputs": [],
   "source": [
    "tabs"
   ]
  },
  {
   "cell_type": "code",
   "execution_count": null,
   "metadata": {
    "scrolled": true
   },
   "outputs": [],
   "source": [
    "tabs.set_title(0, \"zero\");\n",
    "tabs.set_title(1, \"one\");"
   ]
  },
  {
   "cell_type": "markdown",
   "metadata": {},
   "source": [
    "## Accordion"
   ]
  },
  {
   "cell_type": "code",
   "execution_count": null,
   "metadata": {
    "scrolled": true
   },
   "outputs": [],
   "source": [
    "#include \"xwidgets/xaccordion.hpp\"\n",
    "#include \"xwidgets/xbutton.hpp\""
   ]
  },
  {
   "cell_type": "code",
   "execution_count": null,
   "metadata": {
    "scrolled": true
   },
   "outputs": [],
   "source": [
    "xw::accordion accord;"
   ]
  },
  {
   "cell_type": "code",
   "execution_count": null,
   "metadata": {
    "scrolled": true
   },
   "outputs": [],
   "source": [
    "accord.add(xw::button());\n",
    "accord.add(xw::button());\n",
    "accord.add(xw::button());"
   ]
  },
  {
   "cell_type": "code",
   "execution_count": null,
   "metadata": {
    "scrolled": true
   },
   "outputs": [],
   "source": [
    "accord"
   ]
  },
  {
   "cell_type": "code",
   "execution_count": null,
   "metadata": {
    "scrolled": true
   },
   "outputs": [],
   "source": [
    "accord.set_title(0, \"zero\");\n",
    "accord.set_title(1, \"one\");\n",
    "accord.set_title(2, \"two\");"
   ]
  },
  {
   "cell_type": "markdown",
   "metadata": {
    "collapsed": true,
    "jupyter": {
     "outputs_hidden": true
    }
   },
   "source": [
    "# Color picker"
   ]
  },
  {
   "cell_type": "code",
   "execution_count": null,
   "metadata": {
    "scrolled": true
   },
   "outputs": [],
   "source": [
    "#include \"xwidgets/xcolor_picker.hpp\""
   ]
  },
  {
   "cell_type": "code",
   "execution_count": null,
   "metadata": {
    "scrolled": true
   },
   "outputs": [],
   "source": [
    "xw::color_picker cpicker;"
   ]
  },
  {
   "cell_type": "code",
   "execution_count": null,
   "metadata": {
    "scrolled": true
   },
   "outputs": [],
   "source": [
    "cpicker"
   ]
  },
  {
   "cell_type": "code",
   "execution_count": null,
   "metadata": {
    "scrolled": true
   },
   "outputs": [],
   "source": [
    "cpicker.value = \"blue\";"
   ]
  },
  {
   "cell_type": "code",
   "execution_count": null,
   "metadata": {
    "scrolled": true
   },
   "outputs": [],
   "source": [
    "cpicker.concise = true;"
   ]
  },
  {
   "cell_type": "markdown",
   "metadata": {},
   "source": [
    "# Media"
   ]
  },
  {
   "cell_type": "code",
   "execution_count": null,
   "metadata": {},
   "outputs": [],
   "source": [
    "#include \"xwidgets/ximage.hpp\"\n",
    "#include \"xwidgets/xvideo.hpp\"\n",
    "#include \"xwidgets/xaudio.hpp\""
   ]
  },
  {
   "cell_type": "code",
   "execution_count": null,
   "metadata": {},
   "outputs": [],
   "source": [
    "auto im = xw::image_from_file(\"marie.png\").finalize();\n",
    "im"
   ]
  },
  {
   "cell_type": "code",
   "execution_count": null,
   "metadata": {},
   "outputs": [],
   "source": [
    "auto vid1 = xw::video_from_file(\"Big.Buck.Bunny.mp4\").finalize();\n",
    "vid1"
   ]
  },
  {
   "cell_type": "code",
   "execution_count": null,
   "metadata": {},
   "outputs": [],
   "source": [
    "auto vid2 = xw::video_from_url(\"https://webrtc.github.io/samples/src/video/chrome.webm\").finalize();\n",
    "vid2"
   ]
  },
  {
   "cell_type": "code",
   "execution_count": null,
   "metadata": {},
   "outputs": [],
   "source": [
    "auto au = xw::audio_from_file(\"Big.Buck.Bunny.mp3\").finalize();\n",
    "au"
   ]
  },
  {
   "cell_type": "markdown",
   "metadata": {},
   "source": [
    "# Output"
   ]
  },
  {
   "cell_type": "code",
   "execution_count": null,
   "metadata": {},
   "outputs": [],
   "source": [
    "#include \"xwidgets/xoutput.hpp\""
   ]
  },
  {
   "cell_type": "code",
   "execution_count": null,
   "metadata": {},
   "outputs": [],
   "source": [
    "xw::output out;\n",
    "out"
   ]
  },
  {
   "cell_type": "code",
   "execution_count": null,
   "metadata": {},
   "outputs": [],
   "source": [
    "#include <iostream>"
   ]
  },
  {
   "cell_type": "code",
   "execution_count": null,
   "metadata": {},
   "outputs": [],
   "source": [
    "{\n",
    "    // Using a scope guard to enable output capture\n",
    "    auto g = out.guard();\n",
    "    std::cout << \"This output is captured.\" << std::endl;\n",
    "}"
   ]
  },
  {
   "cell_type": "code",
   "execution_count": null,
   "metadata": {},
   "outputs": [],
   "source": [
    "#include <xcpp/xdisplay.hpp>"
   ]
  },
  {
   "cell_type": "code",
   "execution_count": null,
   "metadata": {},
   "outputs": [],
   "source": [
    "{\n",
    "    // Using a scope guard to clear output widget\n",
    "    auto g = out.guard();\n",
    "    xcpp::clear_output();\n",
    "}"
   ]
  },
  {
   "cell_type": "code",
   "execution_count": null,
   "metadata": {},
   "outputs": [],
   "source": []
  }
 ],
 "metadata": {
  "kernelspec": {
   "display_name": "C++14",
   "language": "C++14",
   "name": "xcpp14"
  },
  "language_info": {
   "codemirror_mode": "text/x-c++src",
   "file_extension": ".cpp",
   "mimetype": "text/x-c++src",
   "name": "c++",
   "version": "14"
  }
 },
 "nbformat": 4,
 "nbformat_minor": 4
}
