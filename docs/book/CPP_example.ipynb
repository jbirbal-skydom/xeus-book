{
 "cells": [
  {
   "cell_type": "markdown",
   "id": "31d69c2c",
   "metadata": {},
   "source": [
    "# A C++ Jupyter book\n",
    "\n",
    "We combine the Jupyter Book and Xeus-Cling projects to make an executable jupyter book project. "
   ]
  },
  {
   "cell_type": "code",
   "execution_count": null,
   "id": "6411698f",
   "metadata": {
    "vscode": {
     "languageId": "c++"
    }
   },
   "outputs": [
    {
     "name": "stdout",
     "output_type": "stream",
     "text": [
      "Hello World! I'm using Xeus and Cling!\n"
     ]
    }
   ],
   "source": [
    "#include <iostream>\n",
    "\n",
    "std::cout << \"Hello World! I'm using Xeus and Cling!\\n\";"
   ]
  },
  {
   "cell_type": "markdown",
   "id": "e3848052",
   "metadata": {},
   "source": [
    "Lets check the debug on VS Code"
   ]
  },
  {
   "cell_type": "code",
   "execution_count": 12,
   "id": "2e7cb4af",
   "metadata": {
    "vscode": {
     "languageId": "cpp"
    }
   },
   "outputs": [
    {
     "name": "stdout",
     "output_type": "stream",
     "text": [
      "The product of 5 and 6 is 30\n"
     ]
    },
    {
     "data": {
      "text/plain": [
       "29"
      ]
     },
     "execution_count": 12,
     "metadata": {},
     "output_type": "execute_result"
    }
   ],
   "source": [
    "#include <iostream>\n",
    "int multiply(int x, int y) {\n",
    "  // return the product of x and y\n",
    "  return x * y;\n",
    "}\n",
    "int multiply(int x, int y);\n",
    "\n",
    "int num1 = 5;\n",
    "int num2 = 6;\n",
    "\n",
    "int product = multiply(num1, num2);\n",
    "printf(\"The product of %d and %d is %d\\n\", num1, num2, product);\n",
    "\n"
   ]
  }
 ],
 "metadata": {
  "kernelspec": {
   "display_name": "C++17",
   "language": "C++17",
   "name": "xcpp17"
  },
  "language_info": {
   "codemirror_mode": "text/x-c++src",
   "file_extension": ".cpp",
   "mimetype": "text/x-c++src",
   "name": "C++17",
   "version": "17"
  }
 },
 "nbformat": 4,
 "nbformat_minor": 5
}
