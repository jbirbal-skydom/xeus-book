{
 "cells": [
  {
   "cell_type": "code",
   "execution_count": 1,
   "id": "66dbe373-c14e-40a7-b2d6-606b93aa3a1d",
   "metadata": {},
   "outputs": [],
   "source": [
    "#pragma cling add_library_path(\"/opt/conda/envs/opencv2/lib\")\n",
    "#pragma cling add_include_path(\"/opt/conda/envs/opencv2/include/opencv4\")"
   ]
  },
  {
   "cell_type": "code",
   "execution_count": 2,
   "id": "d82400a3-53f0-4d93-81f5-6ce6614378a4",
   "metadata": {},
   "outputs": [],
   "source": [
    "#pragma cling load(\"/opt/conda/envs/opencv/lib/libopencv_aruco.so.4.8.0\")\n",
    "#pragma cling load(\"/opt/conda/envs/opencv/lib/libopencv_bgsegm.so.4.8.0\")\n",
    "#pragma cling load(\"/opt/conda/envs/opencv/lib/libopencv_bioinspired.so.4.8.0\")\n",
    "\n",
    "\n",
    "#pragma cling load(\"/opt/conda/envs/opencv/lib/libopencv_core.so.4.8.0\")\n",
    "#pragma cling load(\"/opt/conda/envs/opencv/lib/libopencv_datasets.so.4.8.0\")\n",
    "#pragma cling load(\"/opt/conda/envs/opencv/lib/libopencv_dnn_objdetect.so.4.8.0\")\n",
    "#pragma cling load(\"/opt/conda/envs/opencv/lib/libopencv_dnn.so.4.8.0\")\n",
    "#pragma cling load(\"/opt/conda/envs/opencv/lib/libopencv_dpm.so.4.8.0\")\n",
    "#pragma cling load(\"/opt/conda/envs/opencv/lib/libopencv_face.so.4.8.0\")\n",
    "#pragma cling load(\"/opt/conda/envs/opencv/lib/libopencv_features2d.so.4.8.0\")\n",
    "#pragma cling load(\"/opt/conda/envs/opencv/lib/libopencv_flann.so.4.8.0\")\n",
    "#pragma cling load(\"/opt/conda/envs/opencv/lib/libopencv_freetype.so.4.8.0\")\n",
    "#pragma cling load(\"/opt/conda/envs/opencv/lib/libopencv_fuzzy.so.4.8.0\")\n",
    "#pragma cling load(\"/opt/conda/envs/opencv/lib/libopencv_gapi.so.4.8.0\")\n",
    "#pragma cling load(\"/opt/conda/envs/opencv/lib/libopencv_hdf.so.4.8.0\")\n",
    "#pragma cling load(\"/opt/conda/envs/opencv/lib/libopencv_hfs.so.4.8.0\")\n",
    "\n",
    "#pragma cling load(\"/opt/conda/envs/opencv/lib/libopencv_imgcodecs.so.4.8.0\")\n",
    "#pragma cling load(\"/opt/conda/envs/opencv/lib/libopencv_img_hash.so.4.8.0\")\n",
    "#pragma cling load(\"/opt/conda/envs/opencv/lib/libopencv_imgproc.so.4.8.0\")\n",
    "#pragma cling load(\"/opt/conda/envs/opencv/lib/libopencv_line_descriptor.so.4.8.0\")\n",
    "#pragma cling load(\"/opt/conda/envs/opencv/lib/libopencv_ml.so.4.8.0\")\n",
    "#pragma cling load(\"/opt/conda/envs/opencv/lib/libopencv_objdetect.so.4.8.0\")\n",
    "#pragma cling load(\"/opt/conda/envs/opencv/lib/libopencv_optflow.so.4.8.0\")\n",
    "#pragma cling load(\"/opt/conda/envs/opencv/lib/libopencv_phase_unwrapping.so.4.8.0\")\n",
    "#pragma cling load(\"/opt/conda/envs/opencv/lib/libopencv_photo.so.4.8.0\")\n",
    "#pragma cling load(\"/opt/conda/envs/opencv/lib/libopencv_plot.so.4.8.0\")\n",
    "#pragma cling load(\"/opt/conda/envs/opencv/lib/libopencv_reg.so.4.8.0\")\n",
    "#pragma cling load(\"/opt/conda/envs/opencv/lib/libopencv_rgbd.so.4.8.0\")\n",
    "#pragma cling load(\"/opt/conda/envs/opencv/lib/libopencv_saliency.so.4.8.0\")\n",
    "\n",
    "#pragma cling load(\"/opt/conda/envs/opencv/lib/libopencv_shape.so.4.8.0\")\n",
    "#pragma cling load(\"/opt/conda/envs/opencv/lib/libopencv_stereo.so.4.8.0\")\n",
    "#pragma cling load(\"/opt/conda/envs/opencv/lib/libopencv_stitching.so.4.8.0\")\n",
    "#pragma cling load(\"/opt/conda/envs/opencv/lib/libopencv_structured_light.so.4.8.0\")\n",
    "#pragma cling load(\"/opt/conda/envs/opencv/lib/libopencv_superres.so.4.8.0\")\n",
    "#pragma cling load(\"/opt/conda/envs/opencv/lib/libopencv_surface_matching.so.4.8.0\")\n",
    "#pragma cling load(\"/opt/conda/envs/opencv/lib/libopencv_text.so.4.8.0\")\n",
    "#pragma cling load(\"/opt/conda/envs/opencv/lib/libopencv_tracking.so.4.8.0\")\n",
    "#pragma cling load(\"/opt/conda/envs/opencv/lib/libopencv_videoio.so.4.8.0\")\n",
    "#pragma cling load(\"/opt/conda/envs/opencv/lib/libopencv_video.so.4.8.0\")\n",
    "#pragma cling load(\"/opt/conda/envs/opencv/lib/libopencv_videostab.so.4.8.0\")\n",
    "#pragma cling load(\"/opt/conda/envs/opencv/lib/libopencv_xfeatures2d.so.4.8.0\")\n",
    "#pragma cling load(\"/opt/conda/envs/opencv/lib/libopencv_ximgproc.so.4.8.0\")\n",
    "#pragma cling load(\"/opt/conda/envs/opencv/lib/libopencv_xobjdetect.so.4.8.0\")\n",
    "#pragma cling load(\"/opt/conda/envs/opencv/lib/libopencv_xphoto.so.4.8.0\")"
   ]
  },
  {
   "cell_type": "code",
   "execution_count": 3,
   "id": "5fcf244d-e7fc-4484-a4ef-21f33b7836a9",
   "metadata": {},
   "outputs": [],
   "source": [
    "#include <opencv2/opencv.hpp>"
   ]
  },
  {
   "cell_type": "code",
   "execution_count": 4,
   "id": "44512719-74b9-4d70-b20e-9543004469ea",
   "metadata": {},
   "outputs": [],
   "source": [
    "// C++ program to demonstrate rectangle\n",
    "// over a self-formed background image\n",
    "  \n",
    "#include <iostream>\n",
    "#include <opencv2/core/core.hpp>\n",
    "  \n",
    "// Drawing shapes\n",
    "#include <opencv2/imgproc.hpp>\n",
    "  \n",
    "#include <opencv2/highgui/highgui.hpp>"
   ]
  },
  {
   "cell_type": "code",
   "execution_count": 5,
   "id": "23fed808-471e-4003-901f-1174b36a9591",
   "metadata": {},
   "outputs": [],
   "source": [
    "// using namespace cv;\n",
    "using namespace std;"
   ]
  },
  {
   "cell_type": "code",
   "execution_count": 8,
   "id": "0d3e39ed-365d-4c5d-8671-5541d947d6d1",
   "metadata": {},
   "outputs": [],
   "source": [
    "// Creating a blank image with\n",
    "    // white background\n",
    "cv::Mat image(500, 500, CV_8UC3,\n",
    "          cv::Scalar(255, 255, 255));"
   ]
  },
  {
   "cell_type": "code",
   "execution_count": 9,
   "id": "802c89e1-22b5-4d9e-9b51-0591744fc90a",
   "metadata": {},
   "outputs": [],
   "source": [
    "// Check if the image is created\n",
    "// successfully or not\n",
    "if (!image.data) {\n",
    "    std::cout << \"Could not open or \"\n",
    "              << \"find the image\\n\";\n",
    "\n",
    "    return 0;\n",
    "}\n",
    "\n",
    "// Top Left Corner\n",
    "cv::Point p1(30, 30);\n",
    "\n",
    "// Bottom Right Corner\n",
    "cv::Point p2(255, 255);\n",
    "\n"
   ]
  },
  {
   "cell_type": "code",
   "execution_count": 11,
   "id": "43e54174-d06d-464c-b7e8-b5410ba2190d",
   "metadata": {},
   "outputs": [],
   "source": [
    "int thickness = 2;\n",
    "\n",
    "// Drawing the Rectangle\n",
    "cv::rectangle(image, p1, p2,\n",
    "          cv::Scalar(255, 0, 0),\n",
    "          thickness, cv::LINE_8);"
   ]
  },
  {
   "cell_type": "code",
   "execution_count": 14,
   "id": "8658f450-547c-4e15-a80c-ee48bc38cb1f",
   "metadata": {},
   "outputs": [
    {
     "name": "stderr",
     "output_type": "stream",
     "text": [
      "\u001b[1minput_line_26:1:10: \u001b[0m\u001b[0;1;31mfatal error: \u001b[0m\u001b[1m'setup.h' file not found\u001b[0m\n",
      "#include \"setup.h\"\n",
      "\u001b[0;1;32m         ^~~~~~~~~\n",
      "\u001b[0m"
     ]
    },
    {
     "ename": "Interpreter Error",
     "evalue": "",
     "output_type": "error",
     "traceback": [
      "Interpreter Error: "
     ]
    }
   ],
   "source": [
    "// setup matplotlib-cpp integration\n",
    "#include \"setup.h\""
   ]
  },
  {
   "cell_type": "code",
   "execution_count": 13,
   "id": "da5a72ab-3ddc-44e2-84d3-623cb8ecc1b1",
   "metadata": {},
   "outputs": [
    {
     "name": "stderr",
     "output_type": "stream",
     "text": [
      "\u001b[1minput_line_24:3:10: \u001b[0m\u001b[0;1;31mfatal error: \u001b[0m\u001b[1m'matplotlibcpp.h' file not found\u001b[0m\n",
      "#include \"matplotlibcpp.h\"\n",
      "\u001b[0;1;32m         ^~~~~~~~~~~~~~~~~\n",
      "\u001b[0m"
     ]
    },
    {
     "ename": "Interpreter Error",
     "evalue": "",
     "output_type": "error",
     "traceback": [
      "Interpreter Error: "
     ]
    }
   ],
   "source": [
    "#include <iostream>\n",
    "#include <vector>\n",
    "#include \"matplotlibcpp.h\"\n",
    "\n",
    "namespace plt = matplotlibcpp;"
   ]
  },
  {
   "cell_type": "code",
   "execution_count": null,
   "id": "613bed3f-b36c-4985-82c2-82218152d5d6",
   "metadata": {},
   "outputs": [],
   "source": []
  },
  {
   "cell_type": "code",
   "execution_count": 20,
   "id": "47121d06-2864-492a-8f5a-12172efcb43b",
   "metadata": {},
   "outputs": [
    {
     "name": "stderr",
     "output_type": "stream",
     "text": [
      "IncrementalExecutor::executeFunction: symbol '_ZN2cv6imshowERKNSt7__cxx1112basic_stringIcSt11char_traitsIcESaIcEEERKNS_11_InputArrayE' unresolved while linking [cling interface function]!\n",
      "You are probably missing the definition of cv::imshow(std::__cxx11::basic_string<char, std::char_traits<char>, std::allocator<char> > const&, cv::_InputArray const&)\n",
      "Maybe you need to load the corresponding shared library?\n",
      "IncrementalExecutor::executeFunction: symbol '_ZN2cv17destroyAllWindowsEv' unresolved while linking [cling interface function]!\n",
      "You are probably missing the definition of cv::destroyAllWindows()\n",
      "Maybe you need to load the corresponding shared library?\n",
      "IncrementalExecutor::executeFunction: symbol '_ZN2cv7waitKeyEi' unresolved while linking [cling interface function]!\n",
      "You are probably missing the definition of cv::waitKey(int)\n",
      "Maybe you need to load the corresponding shared library?\n"
     ]
    },
    {
     "ename": "Interpreter Error",
     "evalue": "",
     "output_type": "error",
     "traceback": [
      "Interpreter Error: "
     ]
    }
   ],
   "source": [
    "  // Show our image inside a window\n",
    "imshow(\"Output\", image);\n",
    "waitKey(0);\n",
    "destroyAllWindows();"
   ]
  }
 ],
 "metadata": {
  "kernelspec": {
   "display_name": "C++17",
   "language": "C++17",
   "name": "xcpp17"
  },
  "language_info": {
   "codemirror_mode": "text/x-c++src",
   "file_extension": ".cpp",
   "mimetype": "text/x-c++src",
   "name": "c++",
   "version": "17"
  }
 },
 "nbformat": 4,
 "nbformat_minor": 5
}
